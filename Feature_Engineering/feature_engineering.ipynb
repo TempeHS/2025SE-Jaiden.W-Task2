{
 "cells": [
  {
   "cell_type": "markdown",
   "metadata": {},
   "source": [
    "[Home](../README.md)\n",
    "\n",
    "### Feature Engineering\n",
    "\n",
    "This Jupyter Notepad is a selection of data engineering processes I applied to my  data before model training to maximise the performance of my machine learning model.\n",
    "\n",
    "#### Feature Engineering Process\n",
    "- Deriving new variables from existing ones\n",
    "    - Encoding categorical features\n",
    "    - Calculating new features from existing features\n",
    "- Combining features/feature interactions\n",
    "- Identifying the most relevant features for the model\n",
    "- Transforming Features\n",
    "  - [Dividing Data into categories](https://web.ma.utexas.edu/users/mks/statmistakes/dividingcontinuousintocategories.html)\n",
    "  - Mathematical transformations (for example logarithmic transformations). Logarithmic transformations are a powerful tool in the world of statistical analysis. They are often used to transform data that exhibit skewness or other irregularities, making it easier to analyze, visualize, and interpret the results.\n",
    "- Creating Domain-Specific Features that incorporating knowledge from the specific domain to create features that capture important characteristics of the data."
   ]
  },
  {
   "cell_type": "markdown",
   "metadata": {},
   "source": [
    "#### Load the required dependencies"
   ]
  },
  {
   "cell_type": "code",
   "execution_count": 12,
   "metadata": {},
   "outputs": [],
   "source": [
    "# Import frameworks\n",
    "import pandas as pd\n",
    "from sklearn.preprocessing import LabelEncoder\n"
   ]
  },
  {
   "cell_type": "markdown",
   "metadata": {},
   "source": [
    "####  Store the data as a local variable\n",
    "\n",
    "The data frame is a Pandas object that structures your tabular data into an appropriate format. It loads the complete data in memory so it is now ready for preprocessing."
   ]
  },
  {
   "cell_type": "code",
   "execution_count": 13,
   "metadata": {},
   "outputs": [],
   "source": [
    "data_frame = pd.read_csv(\"wrangled_data.csv\")"
   ]
  },
  {
   "cell_type": "markdown",
   "metadata": {},
   "source": [
    "####  Deriving new variables from existing ones"
   ]
  },
  {
   "cell_type": "markdown",
   "metadata": {},
   "source": [
    "##### Encoding categorical variables\n",
    "\n",
    "Data Encoding converts textual data into numerical format, so that it can be used as input for algorithms to process. The reason for encoding is that most machine learning algorithms work with numbers and not with text or categorical variables.\n"
   ]
  },
  {
   "cell_type": "markdown",
   "metadata": {},
   "source": [
    "##### 'rating' column encoding"
   ]
  },
  {
   "cell_type": "markdown",
   "metadata": {},
   "source": [
    "This code encodes the 'rating' column by mapping movie ratings to a custom numerical order from least to most restrictive"
   ]
  },
  {
   "cell_type": "code",
   "execution_count": 14,
   "metadata": {},
   "outputs": [
    {
     "data": {
      "text/plain": [
       "array(['R', 'PG', 'G', 'Not Rated', 'NC-17', 'Approved', 'TV-PG', 'PG-13',\n",
       "       'Unrated', 'X', 'TV-MA', 'TV-14'], dtype=object)"
      ]
     },
     "execution_count": 14,
     "metadata": {},
     "output_type": "execute_result"
    }
   ],
   "source": [
    "# to find the unique ratings in the data\n",
    "data_frame['rating'].unique()"
   ]
  },
  {
   "cell_type": "markdown",
   "metadata": {},
   "source": [
    "Using a predefined list, each rating is assigned an index and mapped to its corresponding value. This approach preserves the ordinal relationship between ratings (e.g., G < PG < PG-13 < R), making it more meaningful for ML models"
   ]
  },
  {
   "cell_type": "code",
   "execution_count": 15,
   "metadata": {},
   "outputs": [
    {
     "name": "stdout",
     "output_type": "stream",
     "text": [
      "      rating\n",
      "0          8\n",
      "1          8\n",
      "2          2\n",
      "3          2\n",
      "4          8\n",
      "...      ...\n",
      "7569       5\n",
      "7570       8\n",
      "7571       6\n",
      "7572       8\n",
      "7573       5\n",
      "\n",
      "[7574 rows x 1 columns]\n",
      "{0: 'G', 1: 'TV-PG', 2: 'PG', 3: 'Approved', 4: 'Unrated', 5: 'Not Rated', 6: 'PG-13', 7: 'TV-14', 8: 'R', 9: 'TV-MA', 10: 'NC-17', 11: 'X'}\n"
     ]
    }
   ],
   "source": [
    "# Initialize the LabelEncoder\n",
    "label_encoder = LabelEncoder()\n",
    "\n",
    "# Define the custom class order from least to most violent\n",
    "rating_order = ['G', 'TV-PG', 'PG', 'Approved', 'Unrated', 'Not Rated', 'PG-13', 'TV-14', 'R', 'TV-MA', 'NC-17', 'X']\n",
    "\n",
    "# Fit and transform the 'rating' column\n",
    "data_frame['rating'] = pd.Series(data_frame['rating'])\n",
    "\n",
    "# Map the 'rating' column to the custom order\n",
    "data_frame['rating'] = data_frame['rating'].map({rating: idx for idx, rating in enumerate(rating_order)})\n",
    "\n",
    "# Display the first few rows of the DataFrame to verify the encoding\n",
    "print(data_frame[['rating']])\n",
    "\n",
    "# Print the mapping of classes to labels\n",
    "print(dict(enumerate(rating_order)))\n"
   ]
  },
  {
   "cell_type": "markdown",
   "metadata": {},
   "source": [
    "##### 'genre' column encoding"
   ]
  },
  {
   "cell_type": "markdown",
   "metadata": {},
   "source": [
    "This code one-hot encodes the 'genre' column, creating separate binary columns for each genre. If a movie belongs to a specific genre, the corresponding column is set to 1; otherwise, it's 0. "
   ]
  },
  {
   "cell_type": "code",
   "execution_count": 16,
   "metadata": {},
   "outputs": [
    {
     "name": "stdout",
     "output_type": "stream",
     "text": [
      "                                             name  rating  year  \\\n",
      "0                                     The Shining       8  1980   \n",
      "1                                 The Blue Lagoon       8  1980   \n",
      "2  Star Wars: Episode V - The Empire Strikes Back       2  1980   \n",
      "3                                       Airplane!       2  1980   \n",
      "4                                      Caddyshack       8  1980   \n",
      "\n",
      "        released     score     votes         director  \\\n",
      "0  June 13, 1980  0.878378  0.386241  Stanley Kubrick   \n",
      "1   July 2, 1980  0.527027  0.027069   Randal Kleiser   \n",
      "2  June 20, 1980  0.918919  0.499993   Irvin Kershner   \n",
      "3   July 2, 1980  0.783784  0.092070     Jim Abrahams   \n",
      "4  July 25, 1980  0.729730  0.044986     Harold Ramis   \n",
      "\n",
      "                    writer            star         country  ...  \\\n",
      "0             Stephen King  Jack Nicholson  United Kingdom  ...   \n",
      "1  Henry De Vere Stacpoole  Brooke Shields   United States  ...   \n",
      "2           Leigh Brackett     Mark Hamill   United States  ...   \n",
      "3             Jim Abrahams     Robert Hays   United States  ...   \n",
      "4       Brian Doyle-Murray     Chevy Chase   United States  ...   \n",
      "\n",
      "   genre_Fantasy  genre_Horror genre_Music  genre_Musical  genre_Mystery  \\\n",
      "0          False         False       False          False          False   \n",
      "1          False         False       False          False          False   \n",
      "2          False         False       False          False          False   \n",
      "3          False         False       False          False          False   \n",
      "4          False         False       False          False          False   \n",
      "\n",
      "   genre_Romance  genre_Sci-Fi  genre_Sport  genre_Thriller  genre_Western  \n",
      "0          False         False        False           False          False  \n",
      "1          False         False        False           False          False  \n",
      "2          False         False        False           False          False  \n",
      "3          False         False        False           False          False  \n",
      "4          False         False        False           False          False  \n",
      "\n",
      "[5 rows x 32 columns]\n"
     ]
    }
   ],
   "source": [
    "# One-hot encode the 'genre' column\n",
    "data_frame = pd.get_dummies(data_frame, columns=['genre'])\n",
    "\n",
    "# Display the first few rows of the encoded dataframe\n",
    "print(data_frame.head())"
   ]
  },
  {
   "cell_type": "markdown",
   "metadata": {},
   "source": [
    "##### 'company' & 'country' column encoding"
   ]
  },
  {
   "cell_type": "markdown",
   "metadata": {},
   "source": [
    "This code applies frequency encoding to the 'company' and 'country' columns by calculating how often each unique value appears in the dataset and mapping those frequencies back to the original data. "
   ]
  },
  {
   "cell_type": "code",
   "execution_count": 17,
   "metadata": {},
   "outputs": [
    {
     "name": "stdout",
     "output_type": "stream",
     "text": [
      "       company   country\n",
      "0     0.043966  0.106681\n",
      "1     0.043834  0.719039\n",
      "2     0.001320  0.719039\n",
      "3     0.042250  0.719039\n",
      "4     0.007922  0.719039\n",
      "...        ...       ...\n",
      "7569  0.000132  0.004621\n",
      "7570  0.000132  0.719039\n",
      "7571  0.000132  0.719039\n",
      "7572  0.000132  0.719039\n",
      "7573  0.000264  0.719039\n",
      "\n",
      "[7574 rows x 2 columns]\n"
     ]
    }
   ],
   "source": [
    "# Calculate the frequency of each unique value in the 'company' column\n",
    "company_freq = data_frame['company'].value_counts() / len(data_frame)\n",
    "# Map the frequencies back to the original dataframe\n",
    "data_frame['company'] = data_frame['company'].map(company_freq)\n",
    "\n",
    "# Calculate the frequency of each unique value in the 'country' column\n",
    "country_freq = data_frame['country'].value_counts() / len(data_frame)\n",
    "# Map the frequencies back to the original dataframe\n",
    "data_frame['country'] = data_frame['country'].map(country_freq)\n",
    "\n",
    "#Print the results\n",
    "print(data_frame[['company', 'country']])\n"
   ]
  },
  {
   "cell_type": "markdown",
   "metadata": {},
   "source": [
    "##### Convert 'released' to a date format"
   ]
  },
  {
   "cell_type": "markdown",
   "metadata": {},
   "source": [
    "This code converts the 'released' column to datetime format, ensuring consistency in date representation. Rows with invalid or missing dates are removed to maintain data integrity, preventing errors in time-based feature engineering."
   ]
  },
  {
   "cell_type": "code",
   "execution_count": 18,
   "metadata": {},
   "outputs": [
    {
     "name": "stdout",
     "output_type": "stream",
     "text": [
      "       released\n",
      "0    1980-06-13\n",
      "1    1980-07-02\n",
      "2    1980-06-20\n",
      "3    1980-07-02\n",
      "4    1980-07-25\n",
      "...         ...\n",
      "7569 2020-08-28\n",
      "7570 2020-04-17\n",
      "7571 2020-06-03\n",
      "7572 2020-02-07\n",
      "7573 2020-03-03\n",
      "\n",
      "[7519 rows x 1 columns]\n"
     ]
    }
   ],
   "source": [
    "# Convert the 'released' column to datetime format\n",
    "data_frame['released'] = pd.to_datetime(data_frame['released'], errors='coerce')\n",
    "\n",
    "# Remove rows with null values in the 'released' column\n",
    "data_frame = data_frame.dropna(subset=['released'])\n",
    "\n",
    "# Display the first few rows of the DataFrame to verify the conversion\n",
    "print(data_frame[['released']])"
   ]
  },
  {
   "cell_type": "markdown",
   "metadata": {},
   "source": [
    "#### 'director' + 'star' column encoding"
   ]
  },
  {
   "cell_type": "code",
   "execution_count": null,
   "metadata": {},
   "outputs": [],
   "source": [
    "# possibly be implemented in the future"
   ]
  },
  {
   "cell_type": "markdown",
   "metadata": {},
   "source": [
    "#### Combining features/feature interactions\n",
    "\n",
    "While individual features can be powerful predictors, their interactions often carry even more information. Feature interaction engineering is the process of creating new features that represent the interaction between two or more features."
   ]
  },
  {
   "cell_type": "markdown",
   "metadata": {},
   "source": [
    "#### Transforming Features\n",
    "\n",
    "Filtering is like applying the where clause in a database. It is widely used and can help when you need to work on a specific subset of your data. "
   ]
  },
  {
   "cell_type": "markdown",
   "metadata": {},
   "source": [
    "#### Creating Domain-Specific Features\n",
    "\n",
    "Domain knowledge is about understanding the domain or subject area of the data. \n"
   ]
  },
  {
   "cell_type": "markdown",
   "metadata": {},
   "source": [
    "##### Time Based Features"
   ]
  },
  {
   "cell_type": "code",
   "execution_count": 20,
   "metadata": {},
   "outputs": [
    {
     "name": "stdout",
     "output_type": "stream",
     "text": [
      "      release_month  release_quarter\n",
      "1466              7                3\n",
      "4717             11                4\n",
      "4260              1                1\n",
      "4055              2                1\n",
      "3912              6                2\n",
      "...             ...              ...\n",
      "7116              3                1\n",
      "4359              8                3\n",
      "5402              8                3\n",
      "2739             12                4\n",
      "3584              9                3\n",
      "\n",
      "[7519 rows x 2 columns]\n"
     ]
    }
   ],
   "source": [
    "# Extracting month and quarter from release date\n",
    "data_frame['release_month'] = pd.to_datetime(data_frame['released']).dt.month\n",
    "data_frame['release_quarter'] = pd.to_datetime(data_frame['released']).dt.quarter\n",
    "\n",
    "print(data_frame[['release_month', 'release_quarter']])"
   ]
  },
  {
   "cell_type": "markdown",
   "metadata": {},
   "source": [
    "##### Sequel"
   ]
  },
  {
   "cell_type": "code",
   "execution_count": 21,
   "metadata": {},
   "outputs": [],
   "source": [
    "# Binary feature for sequels\n",
    "data_frame['is_sequel'] = data_frame['name'].str.contains(r'\\b(?:2|3|4|II|III|IV)\\b', regex=True).astype(int)"
   ]
  },
  {
   "cell_type": "markdown",
   "metadata": {},
   "source": [
    "#### Save the wrangled and engineered data to CSV"
   ]
  },
  {
   "cell_type": "code",
   "execution_count": 22,
   "metadata": {},
   "outputs": [],
   "source": [
    "data_frame.to_csv('../Model_Training/model_ready_data.csv', index=False)"
   ]
  }
 ],
 "metadata": {
  "kernelspec": {
   "display_name": "Python 3",
   "language": "python",
   "name": "python3"
  },
  "language_info": {
   "codemirror_mode": {
    "name": "ipython",
    "version": 3
   },
   "file_extension": ".py",
   "mimetype": "text/x-python",
   "name": "python",
   "nbconvert_exporter": "python",
   "pygments_lexer": "ipython3",
   "version": "3.12.1"
  }
 },
 "nbformat": 4,
 "nbformat_minor": 2
}
