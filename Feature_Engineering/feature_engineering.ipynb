{
 "cells": [
  {
   "cell_type": "markdown",
   "metadata": {},
   "source": [
    "[Home](../README.md)\n",
    "\n",
    "### Feature Engineering\n",
    "\n",
    "This Jupyter Notepad is a selection of data engineering processes I applied to my  data before model training to maximise the performance of my machine learning model.\n",
    "\n",
    "#### Feature Engineering Process\n",
    "- Deriving new variables from existing ones\n",
    "    - Encoding categorical features\n",
    "    - Calculating new features from existing features\n",
    "- Combining features/feature interactions\n",
    "- Identifying the most relevant features for the model\n",
    "- Transforming Features\n",
    "  - [Dividing Data into categories](https://web.ma.utexas.edu/users/mks/statmistakes/dividingcontinuousintocategories.html)\n",
    "  - Mathematical transformations (for example logarithmic transformations). Logarithmic transformations are a powerful tool in the world of statistical analysis. They are often used to transform data that exhibit skewness or other irregularities, making it easier to analyze, visualize, and interpret the results.\n",
    "- Creating Domain-Specific Features that incorporating knowledge from the specific domain to create features that capture important characteristics of the data."
   ]
  },
  {
   "cell_type": "markdown",
   "metadata": {},
   "source": [
    "#### Load the required dependencies"
   ]
  },
  {
   "cell_type": "code",
   "execution_count": 1,
   "metadata": {},
   "outputs": [],
   "source": [
    "# Import frameworks\n",
    "import pandas as pd\n",
    "from sklearn.preprocessing import LabelEncoder\n"
   ]
  },
  {
   "cell_type": "markdown",
   "metadata": {},
   "source": [
    "####  Store the data as a local variable\n",
    "\n",
    "The data frame is a Pandas object that structures your tabular data into an appropriate format. It loads the complete data in memory so it is now ready for preprocessing."
   ]
  },
  {
   "cell_type": "code",
   "execution_count": 2,
   "metadata": {},
   "outputs": [],
   "source": [
    "data_frame = pd.read_csv(\"wrangled_data.csv\")"
   ]
  },
  {
   "cell_type": "markdown",
   "metadata": {},
   "source": [
    "####  Deriving new variables from existing ones"
   ]
  },
  {
   "cell_type": "markdown",
   "metadata": {},
   "source": [
    "##### Encoding categorical variables\n",
    "\n",
    "Data Encoding converts textual data into numerical format, so that it can be used as input for algorithms to process. The reason for encoding is that most machine learning algorithms work with numbers and not with text or categorical variables.\n"
   ]
  },
  {
   "cell_type": "markdown",
   "metadata": {},
   "source": [
    "##### 'rating' column encoding"
   ]
  },
  {
   "cell_type": "code",
   "execution_count": 3,
   "metadata": {},
   "outputs": [
    {
     "data": {
      "text/plain": [
       "array(['R', 'PG', 'G', 'Not Rated', 'NC-17', 'Approved', 'TV-PG', 'PG-13',\n",
       "       'Unrated', 'X', 'TV-MA', 'TV-14'], dtype=object)"
      ]
     },
     "execution_count": 3,
     "metadata": {},
     "output_type": "execute_result"
    }
   ],
   "source": [
    "data_frame['rating'].unique()"
   ]
  },
  {
   "cell_type": "code",
   "execution_count": 4,
   "metadata": {},
   "outputs": [
    {
     "name": "stdout",
     "output_type": "stream",
     "text": [
      "      rating\n",
      "0          8\n",
      "1          8\n",
      "2          2\n",
      "3          2\n",
      "4          8\n",
      "...      ...\n",
      "7569       5\n",
      "7570       8\n",
      "7571       6\n",
      "7572       8\n",
      "7573       5\n",
      "\n",
      "[7574 rows x 1 columns]\n",
      "{0: 'G', 1: 'TV-PG', 2: 'PG', 3: 'Approved', 4: 'Unrated', 5: 'Not Rated', 6: 'PG-13', 7: 'TV-14', 8: 'R', 9: 'TV-MA', 10: 'NC-17', 11: 'X'}\n"
     ]
    }
   ],
   "source": [
    "# Initialize the LabelEncoder\n",
    "label_encoder = LabelEncoder()\n",
    "\n",
    "# Define the custom class order from least to most violent\n",
    "rating_order = ['G', 'TV-PG', 'PG', 'Approved', 'Unrated', 'Not Rated', 'PG-13', 'TV-14', 'R', 'TV-MA', 'NC-17', 'X']\n",
    "\n",
    "# Fit and transform the 'rating' column\n",
    "data_frame['rating'] = pd.Series(data_frame['rating'])\n",
    "\n",
    "# Map the 'rating' column to the custom order\n",
    "data_frame['rating'] = data_frame['rating'].map({rating: idx for idx, rating in enumerate(rating_order)})\n",
    "\n",
    "# Display the first few rows of the DataFrame to verify the encoding\n",
    "print(data_frame[['rating']])\n",
    "\n",
    "# Print the mapping of classes to labels\n",
    "print(dict(enumerate(rating_order)))\n"
   ]
  },
  {
   "cell_type": "markdown",
   "metadata": {},
   "source": [
    "##### 'genre' column encoding"
   ]
  },
  {
   "cell_type": "code",
   "execution_count": 5,
   "metadata": {},
   "outputs": [
    {
     "name": "stdout",
     "output_type": "stream",
     "text": [
      "                                             name  rating  year  \\\n",
      "0                                     The Shining       8  1980   \n",
      "1                                 The Blue Lagoon       8  1980   \n",
      "2  Star Wars: Episode V - The Empire Strikes Back       2  1980   \n",
      "3                                       Airplane!       2  1980   \n",
      "4                                      Caddyshack       8  1980   \n",
      "\n",
      "        released     score     votes         director  \\\n",
      "0  June 13, 1980  0.878378  0.386241  Stanley Kubrick   \n",
      "1   July 2, 1980  0.527027  0.027069   Randal Kleiser   \n",
      "2  June 20, 1980  0.918919  0.499993   Irvin Kershner   \n",
      "3   July 2, 1980  0.783784  0.092070     Jim Abrahams   \n",
      "4  July 25, 1980  0.729730  0.044986     Harold Ramis   \n",
      "\n",
      "                    writer            star         country  ...  \\\n",
      "0             Stephen King  Jack Nicholson  United Kingdom  ...   \n",
      "1  Henry De Vere Stacpoole  Brooke Shields   United States  ...   \n",
      "2           Leigh Brackett     Mark Hamill   United States  ...   \n",
      "3             Jim Abrahams     Robert Hays   United States  ...   \n",
      "4       Brian Doyle-Murray     Chevy Chase   United States  ...   \n",
      "\n",
      "   genre_Fantasy  genre_Horror genre_Music  genre_Musical  genre_Mystery  \\\n",
      "0          False         False       False          False          False   \n",
      "1          False         False       False          False          False   \n",
      "2          False         False       False          False          False   \n",
      "3          False         False       False          False          False   \n",
      "4          False         False       False          False          False   \n",
      "\n",
      "   genre_Romance  genre_Sci-Fi  genre_Sport  genre_Thriller  genre_Western  \n",
      "0          False         False        False           False          False  \n",
      "1          False         False        False           False          False  \n",
      "2          False         False        False           False          False  \n",
      "3          False         False        False           False          False  \n",
      "4          False         False        False           False          False  \n",
      "\n",
      "[5 rows x 32 columns]\n"
     ]
    }
   ],
   "source": [
    "# One-hot encode the 'genre' column\n",
    "data_frame = pd.get_dummies(data_frame, columns=['genre'])\n",
    "\n",
    "# Display the first few rows of the encoded dataframe\n",
    "print(data_frame.head())"
   ]
  },
  {
   "cell_type": "markdown",
   "metadata": {},
   "source": [
    "##### 'company' & 'country' column encoding"
   ]
  },
  {
   "cell_type": "code",
   "execution_count": 6,
   "metadata": {},
   "outputs": [
    {
     "name": "stdout",
     "output_type": "stream",
     "text": [
      "       company   country\n",
      "0     0.043966  0.106681\n",
      "1     0.043834  0.719039\n",
      "2     0.001320  0.719039\n",
      "3     0.042250  0.719039\n",
      "4     0.007922  0.719039\n",
      "...        ...       ...\n",
      "7569  0.000132  0.004621\n",
      "7570  0.000132  0.719039\n",
      "7571  0.000132  0.719039\n",
      "7572  0.000132  0.719039\n",
      "7573  0.000264  0.719039\n",
      "\n",
      "[7574 rows x 2 columns]\n"
     ]
    }
   ],
   "source": [
    "# Calculate the frequency of each unique value in the 'company' column\n",
    "company_freq = data_frame['company'].value_counts() / len(data_frame)\n",
    "# Map the frequencies back to the original dataframe\n",
    "data_frame['company'] = data_frame['company'].map(company_freq)\n",
    "\n",
    "# Calculate the frequency of each unique value in the 'country' column\n",
    "country_freq = data_frame['country'].value_counts() / len(data_frame)\n",
    "# Map the frequencies back to the original dataframe\n",
    "data_frame['country'] = data_frame['country'].map(country_freq)\n",
    "\n",
    "#Print the results\n",
    "print(data_frame[['company', 'country']])\n"
   ]
  },
  {
   "cell_type": "markdown",
   "metadata": {},
   "source": [
    "##### Convert 'released' to a date format"
   ]
  },
  {
   "cell_type": "code",
   "execution_count": 7,
   "metadata": {},
   "outputs": [
    {
     "name": "stdout",
     "output_type": "stream",
     "text": [
      "       released\n",
      "0    1980-06-13\n",
      "1    1980-07-02\n",
      "2    1980-06-20\n",
      "3    1980-07-02\n",
      "4    1980-07-25\n",
      "...         ...\n",
      "7569 2020-08-28\n",
      "7570 2020-04-17\n",
      "7571 2020-06-03\n",
      "7572 2020-02-07\n",
      "7573 2020-03-03\n",
      "\n",
      "[7574 rows x 1 columns]\n"
     ]
    }
   ],
   "source": [
    "# Convert the 'released' column to datetime format\n",
    "data_frame['released'] = pd.to_datetime(data_frame['released'], errors='coerce')\n",
    "\n",
    "# Display the first few rows of the DataFrame to verify the conversion\n",
    "print(data_frame[['released']])"
   ]
  },
  {
   "cell_type": "markdown",
   "metadata": {},
   "source": [
    "#### Combining features/feature interactions\n",
    "\n",
    "While individual features can be powerful predictors, their interactions often carry even more information. Feature interaction engineering is the process of creating new features that represent the interaction between two or more features."
   ]
  },
  {
   "cell_type": "markdown",
   "metadata": {},
   "source": [
    "##### Budget x Revenue"
   ]
  },
  {
   "cell_type": "code",
   "execution_count": 8,
   "metadata": {},
   "outputs": [
    {
     "name": "stdout",
     "output_type": "stream",
     "text": [
      "      budget_revenue\n",
      "0           0.015670\n",
      "1           0.020412\n",
      "2           0.179987\n",
      "3           0.029025\n",
      "4           0.013763\n",
      "...              ...\n",
      "7569        0.132324\n",
      "7570        0.000001\n",
      "7571        0.000132\n",
      "7572        0.027744\n",
      "7573        0.000004\n",
      "\n",
      "[7574 rows x 1 columns]\n"
     ]
    }
   ],
   "source": [
    "# Calculate the budget-to-revenue ratio\n",
    "data_frame['budget_revenue'] = data_frame['gross'] / (data_frame['budget'] + 1)  # Avoid division by zero\n",
    "\n",
    "# Display the first few rows of the DataFrame\n",
    "print(data_frame[['budget_revenue']])"
   ]
  },
  {
   "cell_type": "markdown",
   "metadata": {},
   "source": [
    "##### Budget x Votes"
   ]
  },
  {
   "cell_type": "code",
   "execution_count": 9,
   "metadata": {},
   "outputs": [
    {
     "name": "stdout",
     "output_type": "stream",
     "text": [
      "      budget_per_vote\n",
      "0            0.038495\n",
      "1            0.012299\n",
      "2            0.033703\n",
      "3            0.008995\n",
      "4            0.016120\n",
      "...               ...\n",
      "7569         0.224370\n",
      "7570         0.100221\n",
      "7571         0.100309\n",
      "7572         0.000006\n",
      "7573         0.100302\n",
      "\n",
      "[7574 rows x 1 columns]\n"
     ]
    }
   ],
   "source": [
    "# Calculate the budget-to-vote ratio\n",
    "data_frame['budget_per_vote'] = data_frame['budget'] / (data_frame['votes'] + 1)\n",
    "\n",
    "# Display the first few rows of the DataFrame\n",
    "print(data_frame[['budget_per_vote']])"
   ]
  },
  {
   "cell_type": "markdown",
   "metadata": {},
   "source": [
    "##### Director & Star Popularity"
   ]
  },
  {
   "cell_type": "code",
   "execution_count": 10,
   "metadata": {},
   "outputs": [
    {
     "name": "stdout",
     "output_type": "stream",
     "text": [
      "      director_popularity  star_popularity\n",
      "0                0.032788         0.536282\n",
      "1                0.069072         0.032608\n",
      "2                0.224599         0.355951\n",
      "3                0.194719         0.045201\n",
      "4                0.207334         0.226050\n",
      "...                   ...              ...\n",
      "7569             0.162059         0.162059\n",
      "7570             0.000001         0.000001\n",
      "7571             0.000145         0.000145\n",
      "7572             0.027744         0.027744\n",
      "7573             0.000005         0.000005\n",
      "\n",
      "[7574 rows x 2 columns]\n"
     ]
    }
   ],
   "source": [
    "# Compute cumulative gross revenue for each director/star\n",
    "data_frame['director_popularity'] = data_frame.groupby('director')['gross'].transform('sum')\n",
    "data_frame['star_popularity'] = data_frame.groupby('star')['gross'].transform('sum')\n",
    "\n",
    "# Display the first few rows of the DataFrame\n",
    "print(data_frame[['director_popularity', 'star_popularity']])"
   ]
  },
  {
   "cell_type": "markdown",
   "metadata": {},
   "source": [
    "#### Transforming Features\n",
    "\n",
    "Filtering is like applying the where clause in a database. It is widely used and can help when you need to work on a specific subset of your data. For our use case, let us filter the data to only include rows where the 'SEX' is 'Male'. There is no method call for this, we can just use conditional indexing to fulfil our purpose.\n",
    "\n",
    "In this, case some domain knowledge and data analysis have informed you that there is 'bimodality' in the data and males and females have a different trends. "
   ]
  },
  {
   "cell_type": "markdown",
   "metadata": {},
   "source": [
    "#### Creating Domain-Specific Features\n",
    "\n",
    "Domain knowledge is about understanding the domain or subject area of the data. \n"
   ]
  },
  {
   "cell_type": "markdown",
   "metadata": {},
   "source": [
    "##### Time Based Features"
   ]
  },
  {
   "cell_type": "code",
   "execution_count": 11,
   "metadata": {},
   "outputs": [
    {
     "name": "stdout",
     "output_type": "stream",
     "text": [
      "      release_month  release_quarter\n",
      "0               6.0              2.0\n",
      "1               7.0              3.0\n",
      "2               6.0              2.0\n",
      "3               7.0              3.0\n",
      "4               7.0              3.0\n",
      "...             ...              ...\n",
      "7569            8.0              3.0\n",
      "7570            4.0              2.0\n",
      "7571            6.0              2.0\n",
      "7572            2.0              1.0\n",
      "7573            3.0              1.0\n",
      "\n",
      "[7574 rows x 2 columns]\n"
     ]
    }
   ],
   "source": [
    "# Extracting month and quarter from release date\n",
    "data_frame['release_month'] = pd.to_datetime(data_frame['released']).dt.month\n",
    "data_frame['release_quarter'] = pd.to_datetime(data_frame['released']).dt.quarter\n",
    "\n",
    "print(data_frame[['release_month', 'release_quarter']])"
   ]
  },
  {
   "cell_type": "code",
   "execution_count": 12,
   "metadata": {},
   "outputs": [
    {
     "name": "stdout",
     "output_type": "stream",
     "text": [
      "     release_season\n",
      "0            Summer\n",
      "1            Summer\n",
      "2            Summer\n",
      "3            Summer\n",
      "4            Summer\n",
      "...             ...\n",
      "7569         Summer\n",
      "7570         Spring\n",
      "7571         Summer\n",
      "7572         Winter\n",
      "7573         Spring\n",
      "\n",
      "[7574 rows x 1 columns]\n"
     ]
    }
   ],
   "source": [
    "# Extracting season from release date\n",
    "data_frame['release_season'] = data_frame['release_month'].apply(lambda x: 'Winter' if x in [12, 1, 2] \n",
    "                                                                else 'Spring' if x in [3, 4, 5] \n",
    "                                                                else 'Summer' if x in [6, 7, 8] \n",
    "                                                                else 'Fall')\n",
    "\n",
    "print(data_frame[['release_season']])\n"
   ]
  },
  {
   "cell_type": "markdown",
   "metadata": {},
   "source": [
    "##### Success by Country"
   ]
  },
  {
   "cell_type": "code",
   "execution_count": 13,
   "metadata": {},
   "outputs": [
    {
     "name": "stdout",
     "output_type": "stream",
     "text": [
      "      country_avg_gross\n",
      "0              0.021821\n",
      "1              0.031618\n",
      "2              0.031618\n",
      "3              0.031618\n",
      "4              0.031618\n",
      "...                 ...\n",
      "7569           0.076471\n",
      "7570           0.031618\n",
      "7571           0.031618\n",
      "7572           0.031618\n",
      "7573           0.031618\n",
      "\n",
      "[7574 rows x 1 columns]\n"
     ]
    }
   ],
   "source": [
    "# Calculate the average gross revenue for each country\n",
    "country_avg_gross = data_frame.groupby('country')['gross'].transform('mean')\n",
    "data_frame['country_avg_gross'] = country_avg_gross\n",
    "\n",
    "print(data_frame[['country_avg_gross']])"
   ]
  },
  {
   "cell_type": "markdown",
   "metadata": {},
   "source": [
    "##### Budget Categories"
   ]
  },
  {
   "cell_type": "code",
   "execution_count": 14,
   "metadata": {},
   "outputs": [
    {
     "name": "stdout",
     "output_type": "stream",
     "text": [
      "        budget budget_category\n",
      "0     0.053363      Medium-Low\n",
      "1     0.012632             Low\n",
      "2     0.050554      Medium-Low\n",
      "3     0.009823        Very Low\n",
      "4     0.016846             Low\n",
      "...        ...             ...\n",
      "7569  0.224713          Medium\n",
      "7570  0.100320          Medium\n",
      "7571  0.100320          Medium\n",
      "7572  0.000006        Very Low\n",
      "7573  0.100320          Medium\n",
      "\n",
      "[7574 rows x 2 columns]\n"
     ]
    }
   ],
   "source": [
    "# Define the bins and labels for the budget categories\n",
    "bins = [0, 0.01, 0.05, 0.1, 0.5, 1, float('inf')]\n",
    "labels = ['Very Low', 'Low', 'Medium-Low', 'Medium', 'Medium-High', 'High']\n",
    "\n",
    "# Create a new column with the budget categories\n",
    "data_frame['budget_category'] = pd.cut(data_frame['budget'], bins=bins, labels=labels)\n",
    "\n",
    "# Display the first few rows of the dataframe with the new feature\n",
    "print(data_frame[['budget', 'budget_category']])"
   ]
  },
  {
   "cell_type": "markdown",
   "metadata": {},
   "source": [
    "#### Save the wrangled and engineered data to CSV"
   ]
  },
  {
   "cell_type": "code",
   "execution_count": 15,
   "metadata": {},
   "outputs": [],
   "source": [
    "data_frame.to_csv('../Model_Training/model_ready_data2.csv', index=False)"
   ]
  }
 ],
 "metadata": {
  "kernelspec": {
   "display_name": "Python 3",
   "language": "python",
   "name": "python3"
  },
  "language_info": {
   "codemirror_mode": {
    "name": "ipython",
    "version": 3
   },
   "file_extension": ".py",
   "mimetype": "text/x-python",
   "name": "python",
   "nbconvert_exporter": "python",
   "pygments_lexer": "ipython3",
   "version": "3.12.1"
  }
 },
 "nbformat": 4,
 "nbformat_minor": 2
}
