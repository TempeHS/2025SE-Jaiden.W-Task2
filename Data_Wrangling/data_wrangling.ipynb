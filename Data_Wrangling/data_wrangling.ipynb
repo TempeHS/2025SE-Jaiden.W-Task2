{
 "cells": [
  {
   "cell_type": "markdown",
   "metadata": {},
   "source": [
    "[Home](../README.md)\n",
    "\n",
    "### Data Wrangling\n"
   ]
  },
  {
   "cell_type": "markdown",
   "metadata": {},
   "source": [
    "#### Load the required dependencies"
   ]
  },
  {
   "cell_type": "code",
   "execution_count": 9,
   "metadata": {},
   "outputs": [],
   "source": [
    "# Import frameworks\n",
    "import pandas as pd"
   ]
  },
  {
   "cell_type": "markdown",
   "metadata": {},
   "source": [
    "####  Store the data as a local variable\n",
    "\n",
    "The data frame is a Pandas object that structures your tabular data into an appropriate format. It loads the complete data in memory so it is now ready for preprocessing."
   ]
  },
  {
   "cell_type": "code",
   "execution_count": 10,
   "metadata": {},
   "outputs": [],
   "source": [
    "data_frame = pd.read_csv(\"movies.csv\")"
   ]
  },
  {
   "cell_type": "markdown",
   "metadata": {},
   "source": [
    "#### Dealing with null values\n",
    "\n",
    "Null values during data analysis can cause runtime errors and unexpected results. It is important to identify null values and deal with them appropriately before training a model.\n",
    "\n",
    "The `isnull().sum()` method call returns the null values in any column."
   ]
  },
  {
   "cell_type": "code",
   "execution_count": 11,
   "metadata": {},
   "outputs": [
    {
     "data": {
      "text/plain": [
       "name           0\n",
       "rating        77\n",
       "genre          0\n",
       "year           0\n",
       "released       2\n",
       "score          3\n",
       "votes          3\n",
       "director       0\n",
       "writer         3\n",
       "star           1\n",
       "country        3\n",
       "budget      2171\n",
       "gross        189\n",
       "company       17\n",
       "runtime        4\n",
       "dtype: int64"
      ]
     },
     "execution_count": 11,
     "metadata": {},
     "output_type": "execute_result"
    }
   ],
   "source": [
    "data_frame.isnull().sum()"
   ]
  },
  {
   "cell_type": "markdown",
   "metadata": {},
   "source": [
    "For categorical columns like rating, company, and writer, I will remove rows with null values using `dropna()` because these features are essential for understanding a movie's context, and missing them could reduce model accuracy."
   ]
  },
  {
   "cell_type": "code",
   "execution_count": 12,
   "metadata": {},
   "outputs": [
    {
     "data": {
      "text/plain": [
       "name           0\n",
       "rating         0\n",
       "genre          0\n",
       "year           0\n",
       "released       0\n",
       "score          0\n",
       "votes          0\n",
       "director       0\n",
       "writer         0\n",
       "star           0\n",
       "country        0\n",
       "budget      2101\n",
       "gross        162\n",
       "company        0\n",
       "runtime        0\n",
       "dtype: int64"
      ]
     },
     "execution_count": 12,
     "metadata": {},
     "output_type": "execute_result"
    }
   ],
   "source": [
    "# Remove Null values\n",
    "data_frame = data_frame.dropna(subset=['rating'])\n",
    "data_frame = data_frame.dropna(subset=['company'])\n",
    "data_frame = data_frame.dropna(subset=['writer'])\n",
    "data_frame = data_frame.dropna(subset=['score'])\n",
    "data_frame = data_frame.dropna(subset=['runtime'])\n",
    "data_frame.isnull().sum()"
   ]
  },
  {
   "cell_type": "markdown",
   "metadata": {},
   "source": [
    "For numerical columns like budget and gross, I will replace missing values using `fillna()` with their mean to preserve data size while minimizing the impact on statistical analysis."
   ]
  },
  {
   "cell_type": "code",
   "execution_count": 13,
   "metadata": {},
   "outputs": [
    {
     "data": {
      "text/plain": [
       "name        0\n",
       "rating      0\n",
       "genre       0\n",
       "year        0\n",
       "released    0\n",
       "score       0\n",
       "votes       0\n",
       "director    0\n",
       "writer      0\n",
       "star        0\n",
       "country     0\n",
       "budget      0\n",
       "gross       0\n",
       "company     0\n",
       "runtime     0\n",
       "dtype: int64"
      ]
     },
     "execution_count": 13,
     "metadata": {},
     "output_type": "execute_result"
    }
   ],
   "source": [
    "# Replace Null values with the mean value for the column\n",
    "data_frame['budget'] = data_frame['budget'].fillna(data_frame['budget'].mean())\n",
    "data_frame['gross'] = data_frame['gross'].fillna(data_frame['gross'].mean())\n",
    "\n",
    "data_frame.isnull().sum()"
   ]
  },
  {
   "cell_type": "markdown",
   "metadata": {},
   "source": [
    "#### Remove Duplicates\n",
    "\n",
    "Duplicate data can have detrimental effects on your machine learning models and outcomes, such as reducing data diversity and representativeness, which can lead to overfitting or biased models.\n",
    "\n",
    "The `duplicated().sum()` method call returns the count of duplicate rows in the data frame."
   ]
  },
  {
   "cell_type": "code",
   "execution_count": 14,
   "metadata": {},
   "outputs": [
    {
     "data": {
      "text/plain": [
       "np.int64(0)"
      ]
     },
     "execution_count": 14,
     "metadata": {},
     "output_type": "execute_result"
    }
   ],
   "source": [
    "data_frame.duplicated().sum()"
   ]
  },
  {
   "cell_type": "markdown",
   "metadata": {},
   "source": [
    "As the dataset has no duplicates, we can continue on with wrangling our data."
   ]
  },
  {
   "cell_type": "markdown",
   "metadata": {},
   "source": [
    "#### Replace data\n",
    "\n",
    "I used the the `str.replace()` method with a regular expression (regex) to clean the 'released' column."
   ]
  },
  {
   "cell_type": "code",
   "execution_count": 15,
   "metadata": {},
   "outputs": [],
   "source": [
    "data_frame['released'] = data_frame['released'].str.replace(r'\\s*\\(.*\\)', '', regex=True)"
   ]
  },
  {
   "cell_type": "markdown",
   "metadata": {},
   "source": [
    "This removes any text in parentheses (e.g., country names like \" (United States)\") from the 'released' column, simplifying the release dates. I chose to remove this because it is not relevant to my target variable (gross revenue) and improves the dataset's clarity and readability."
   ]
  },
  {
   "cell_type": "markdown",
   "metadata": {},
   "source": [
    "We can check that there are no data entry errors by the `unique()` method call."
   ]
  },
  {
   "cell_type": "code",
   "execution_count": 16,
   "metadata": {},
   "outputs": [
    {
     "data": {
      "text/plain": [
       "array(['June 13, 1980', 'July 2, 1980', 'June 20, 1980', ...,\n",
       "       'April 17, 2020', 'June 3, 2020', 'March 3, 2020'], dtype=object)"
      ]
     },
     "execution_count": 16,
     "metadata": {},
     "output_type": "execute_result"
    }
   ],
   "source": [
    "data_frame['released'].unique()"
   ]
  },
  {
   "cell_type": "markdown",
   "metadata": {},
   "source": [
    "#### Remove outliers\n",
    "\n",
    "I have decided not to remove outliers from my dataset because extreme values in features like budget and gross represent real-world blockbusters or low-budget films, which are crucial for accurately predicting movie revenue. Removing these outliers could erase valuable patterns and reduce the model's ability to generalize across different types of movies."
   ]
  },
  {
   "cell_type": "markdown",
   "metadata": {},
   "source": [
    "#### Scaling features to a common range\n",
    "\n",
    "Scaling the features makes it easier for machine learning algorithms to find the optimal solution, as the different scales of the features do not influence them."
   ]
  },
  {
   "cell_type": "code",
   "execution_count": 17,
   "metadata": {},
   "outputs": [
    {
     "name": "stdout",
     "output_type": "stream",
     "text": [
      "count    7.574000e+03\n",
      "mean     3.571651e+07\n",
      "std      3.527035e+07\n",
      "min      3.000000e+03\n",
      "25%      1.400000e+07\n",
      "50%      3.571651e+07\n",
      "75%      3.571651e+07\n",
      "max      3.560000e+08\n",
      "Name: budget, dtype: float64\n",
      "Outliers are a budget above 68291268.09747852 or below -18574760.858487114\n"
     ]
    }
   ],
   "source": [
    "#get the inter-quartile range on the x column\n",
    "print(data_frame['budget'].describe())\n",
    "Q1 = data_frame['budget'].quantile(0.25)\n",
    "Q3 = data_frame['budget'].quantile(0.75)\n",
    "IQR = Q3 - Q1\n",
    "print(f'Outliers are a budget above {Q3 + IQR * 1.5} or below {Q1 - IQR * 1.5}')"
   ]
  },
  {
   "cell_type": "code",
   "execution_count": 18,
   "metadata": {},
   "outputs": [],
   "source": [
    "scale_feature = 'gross'\n",
    "\n",
    "# Get the minimum and maximum values for the 'gross' column\n",
    "MIN_BP = data_frame[scale_feature].min()\n",
    "MAX_BP = data_frame[scale_feature].max()\n",
    "\n",
    "# Apply min-max scaling\n",
    "data_frame[scale_feature] = (data_frame[scale_feature] - MIN_BP) / (MAX_BP - MIN_BP)\n"
   ]
  },
  {
   "cell_type": "code",
   "execution_count": 19,
   "metadata": {},
   "outputs": [],
   "source": [
    "scale_feature = 'runtime'\n",
    "\n",
    "# Get the minimum and maximum values for the 'runtime' column\n",
    "MIN_BP = data_frame[scale_feature].min()\n",
    "MAX_BP = data_frame[scale_feature].max()\n",
    "\n",
    "# Apply min-max scaling\n",
    "data_frame[scale_feature] = (data_frame[scale_feature] - MIN_BP) / (MAX_BP - MIN_BP)\n"
   ]
  },
  {
   "cell_type": "code",
   "execution_count": 20,
   "metadata": {},
   "outputs": [],
   "source": [
    "scale_feature = 'budget'\n",
    "\n",
    "# Get the minimum and maximum values for the 'budget' column\n",
    "MIN_BP = data_frame[scale_feature].min()\n",
    "MAX_BP = data_frame[scale_feature].max()\n",
    "\n",
    "# Apply min-max scaling\n",
    "data_frame[scale_feature] = (data_frame[scale_feature] - MIN_BP) / (MAX_BP - MIN_BP)\n"
   ]
  },
  {
   "cell_type": "code",
   "execution_count": 21,
   "metadata": {},
   "outputs": [],
   "source": [
    "scale_feature = 'votes'\n",
    "\n",
    "# Get the minimum and maximum values for the 'votes' column\n",
    "MIN_BP = data_frame[scale_feature].min()\n",
    "MAX_BP = data_frame[scale_feature].max()\n",
    "\n",
    "# Apply min-max scaling\n",
    "data_frame[scale_feature] = (data_frame[scale_feature] - MIN_BP) / (MAX_BP - MIN_BP)\n"
   ]
  },
  {
   "cell_type": "code",
   "execution_count": 22,
   "metadata": {},
   "outputs": [],
   "source": [
    "scale_feature = 'score'\n",
    "\n",
    "# Get the minimum and maximum values for the 'score' column\n",
    "MIN_BP = data_frame[scale_feature].min()\n",
    "MAX_BP = data_frame[scale_feature].max()\n",
    "\n",
    "# Apply min-max scaling\n",
    "data_frame[scale_feature] = (data_frame[scale_feature] - MIN_BP) / (MAX_BP - MIN_BP)\n"
   ]
  },
  {
   "cell_type": "code",
   "execution_count": 23,
   "metadata": {},
   "outputs": [
    {
     "data": {
      "application/vnd.microsoft.datawrangler.viewer.v0+json": {
       "columns": [
        {
         "name": "index",
         "rawType": "object",
         "type": "string"
        },
        {
         "name": "year",
         "rawType": "float64",
         "type": "float"
        },
        {
         "name": "score",
         "rawType": "float64",
         "type": "float"
        },
        {
         "name": "votes",
         "rawType": "float64",
         "type": "float"
        },
        {
         "name": "budget",
         "rawType": "float64",
         "type": "float"
        },
        {
         "name": "gross",
         "rawType": "float64",
         "type": "float"
        },
        {
         "name": "runtime",
         "rawType": "float64",
         "type": "float"
        }
       ],
       "conversionMethod": "pd.DataFrame",
       "ref": "9161f641-b965-4785-95ad-08f1bf49802b",
       "rows": [
        [
         "count",
         "7574.0",
         "7574.0",
         "7574.0",
         "7574.0",
         "7574.0",
         "7574.0"
        ],
        [
         "mean",
         "2000.37707948244",
         "0.606668260549961",
         "0.03704459929544204",
         "0.10031968594957658",
         "0.02774373780666391",
         "0.14617533842108796"
        ],
        [
         "std",
         "11.108857551360314",
         "0.13086635425156143",
         "0.06835177841514513",
         "0.09907486449775468",
         "0.05775017283883535",
         "0.06133569585308478"
        ],
        [
         "min",
         "1980.0",
         "0.0",
         "0.0",
         "0.0",
         "0.0",
         "0.0"
        ],
        [
         "25%",
         "1991.0",
         "0.527027027027027",
         "0.00390214023954516",
         "0.03931774705966623",
         "0.0017009933213727553",
         "0.10561056105610561"
        ],
        [
         "50%",
         "2000.0",
         "0.6216216216216215",
         "0.013735616977747592",
         "0.10031968594957656",
         "0.00755531285349533",
         "0.1353135313531353"
        ],
        [
         "75%",
         "2010.0",
         "0.7027027027027025",
         "0.03915265430954201",
         "0.10031968594957656",
         "0.027743737806663903",
         "0.17491749174917492"
        ],
        [
         "max",
         "2020.0",
         "1.0",
         "1.0",
         "1.0",
         "1.0",
         "1.0"
        ]
       ],
       "shape": {
        "columns": 6,
        "rows": 8
       }
      },
      "text/html": [
       "<div>\n",
       "<style scoped>\n",
       "    .dataframe tbody tr th:only-of-type {\n",
       "        vertical-align: middle;\n",
       "    }\n",
       "\n",
       "    .dataframe tbody tr th {\n",
       "        vertical-align: top;\n",
       "    }\n",
       "\n",
       "    .dataframe thead th {\n",
       "        text-align: right;\n",
       "    }\n",
       "</style>\n",
       "<table border=\"1\" class=\"dataframe\">\n",
       "  <thead>\n",
       "    <tr style=\"text-align: right;\">\n",
       "      <th></th>\n",
       "      <th>year</th>\n",
       "      <th>score</th>\n",
       "      <th>votes</th>\n",
       "      <th>budget</th>\n",
       "      <th>gross</th>\n",
       "      <th>runtime</th>\n",
       "    </tr>\n",
       "  </thead>\n",
       "  <tbody>\n",
       "    <tr>\n",
       "      <th>count</th>\n",
       "      <td>7574.000000</td>\n",
       "      <td>7574.000000</td>\n",
       "      <td>7574.000000</td>\n",
       "      <td>7574.000000</td>\n",
       "      <td>7574.000000</td>\n",
       "      <td>7574.000000</td>\n",
       "    </tr>\n",
       "    <tr>\n",
       "      <th>mean</th>\n",
       "      <td>2000.377079</td>\n",
       "      <td>0.606668</td>\n",
       "      <td>0.037045</td>\n",
       "      <td>0.100320</td>\n",
       "      <td>0.027744</td>\n",
       "      <td>0.146175</td>\n",
       "    </tr>\n",
       "    <tr>\n",
       "      <th>std</th>\n",
       "      <td>11.108858</td>\n",
       "      <td>0.130866</td>\n",
       "      <td>0.068352</td>\n",
       "      <td>0.099075</td>\n",
       "      <td>0.057750</td>\n",
       "      <td>0.061336</td>\n",
       "    </tr>\n",
       "    <tr>\n",
       "      <th>min</th>\n",
       "      <td>1980.000000</td>\n",
       "      <td>0.000000</td>\n",
       "      <td>0.000000</td>\n",
       "      <td>0.000000</td>\n",
       "      <td>0.000000</td>\n",
       "      <td>0.000000</td>\n",
       "    </tr>\n",
       "    <tr>\n",
       "      <th>25%</th>\n",
       "      <td>1991.000000</td>\n",
       "      <td>0.527027</td>\n",
       "      <td>0.003902</td>\n",
       "      <td>0.039318</td>\n",
       "      <td>0.001701</td>\n",
       "      <td>0.105611</td>\n",
       "    </tr>\n",
       "    <tr>\n",
       "      <th>50%</th>\n",
       "      <td>2000.000000</td>\n",
       "      <td>0.621622</td>\n",
       "      <td>0.013736</td>\n",
       "      <td>0.100320</td>\n",
       "      <td>0.007555</td>\n",
       "      <td>0.135314</td>\n",
       "    </tr>\n",
       "    <tr>\n",
       "      <th>75%</th>\n",
       "      <td>2010.000000</td>\n",
       "      <td>0.702703</td>\n",
       "      <td>0.039153</td>\n",
       "      <td>0.100320</td>\n",
       "      <td>0.027744</td>\n",
       "      <td>0.174917</td>\n",
       "    </tr>\n",
       "    <tr>\n",
       "      <th>max</th>\n",
       "      <td>2020.000000</td>\n",
       "      <td>1.000000</td>\n",
       "      <td>1.000000</td>\n",
       "      <td>1.000000</td>\n",
       "      <td>1.000000</td>\n",
       "      <td>1.000000</td>\n",
       "    </tr>\n",
       "  </tbody>\n",
       "</table>\n",
       "</div>"
      ],
      "text/plain": [
       "              year        score        votes       budget        gross  \\\n",
       "count  7574.000000  7574.000000  7574.000000  7574.000000  7574.000000   \n",
       "mean   2000.377079     0.606668     0.037045     0.100320     0.027744   \n",
       "std      11.108858     0.130866     0.068352     0.099075     0.057750   \n",
       "min    1980.000000     0.000000     0.000000     0.000000     0.000000   \n",
       "25%    1991.000000     0.527027     0.003902     0.039318     0.001701   \n",
       "50%    2000.000000     0.621622     0.013736     0.100320     0.007555   \n",
       "75%    2010.000000     0.702703     0.039153     0.100320     0.027744   \n",
       "max    2020.000000     1.000000     1.000000     1.000000     1.000000   \n",
       "\n",
       "           runtime  \n",
       "count  7574.000000  \n",
       "mean      0.146175  \n",
       "std       0.061336  \n",
       "min       0.000000  \n",
       "25%       0.105611  \n",
       "50%       0.135314  \n",
       "75%       0.174917  \n",
       "max       1.000000  "
      ]
     },
     "execution_count": 23,
     "metadata": {},
     "output_type": "execute_result"
    }
   ],
   "source": [
    "# Verify the scaled data\n",
    "data_frame.describe()"
   ]
  },
  {
   "cell_type": "markdown",
   "metadata": {},
   "source": [
    "> [!important]\n",
    "> You need to save the calculations for each dataset you scale for scaling new values for prediction. Use [2.1.2.data.records.md](2.1.2.data.records.md) to record this information."
   ]
  },
  {
   "cell_type": "markdown",
   "metadata": {},
   "source": [
    "#### Save the wrangled data to CSV"
   ]
  },
  {
   "cell_type": "code",
   "execution_count": 24,
   "metadata": {},
   "outputs": [],
   "source": [
    "data_frame.to_csv('../Feature_Engineering/wrangled_data.csv', index=False)"
   ]
  }
 ],
 "metadata": {
  "kernelspec": {
   "display_name": "Python 3",
   "language": "python",
   "name": "python3"
  },
  "language_info": {
   "codemirror_mode": {
    "name": "ipython",
    "version": 3
   },
   "file_extension": ".py",
   "mimetype": "text/x-python",
   "name": "python",
   "nbconvert_exporter": "python",
   "pygments_lexer": "ipython3",
   "version": "3.12.1"
  }
 },
 "nbformat": 4,
 "nbformat_minor": 2
}
